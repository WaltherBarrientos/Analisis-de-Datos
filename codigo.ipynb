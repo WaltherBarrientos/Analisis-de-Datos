import os
import pandas as pd
from pathlib import Path

def extract_and_save_sheet_data(directory, sheet_names, output_directory):
    # Asegurar que el directorio de salida exista
    Path(output_directory).mkdir(parents=True, exist_ok=True)

    # Listar todos los archivos Excel en el directorio especificado
    files = [os.path.join(directory, file) for file in os.listdir(directory) if file.endswith('.xlsx')]
    
    # Iterar sobre cada archivo en la lista de archivos
    for file in files:
        for sheet_name in sheet_names:
            try:
                # Cargar la hoja especificada
                data = pd.read_excel(file, sheet_name=sheet_name, engine='openpyxl')
                # Convertir todas las celdas a valores para eliminar fórmulas
                for col in data.columns:
                    data[col] = data[col].apply(lambda x: x.value if hasattr(x, 'value') else x)
                # Contar registros extraídos
                num_records = data.shape[0]
                # Imprimir el número de registros extraídos de cada archivo
                print(f"Extraídos {num_records} registros de '{sheet_name}' en '{file}'")
                # Preparar el nombre del archivo de salida
                base_name = os.path.splitext(os.path.basename(file))[0]
                output_file = os.path.join(output_directory, f"{base_name}_{sheet_name}.xlsx")
                # Guardar los datos extraídos con el nombre de la hoja correcto
                with pd.ExcelWriter(output_file, engine='openpyxl') as writer:
                    data.to_excel(writer, index=False, sheet_name=sheet_name)
                print(f"Datos de '{sheet_name}' en '{file}' guardados en '{output_file}' con la hoja nombrada '{sheet_name}'")
            except Exception as e:
                print(f"Error extrayendo de {file}: {str(e)}")

# Ejemplo de uso del código
directory = "/content/workinhouse"
sheet_names = ["Actividades app", "inspecciones app"]
output_directory = "/content/workinhouse/outputs"

extract_and_save_sheet_data(directory, sheet_names, output_directory)
