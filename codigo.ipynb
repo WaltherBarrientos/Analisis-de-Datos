{
 "cells": [
  {
   "cell_type": "code",
   "execution_count": null,
   "metadata": {},
   "outputs": [],
   "source": [
    "#estas librerias sirven para el procesamiento de los datos\n",
    "import os\n",
    "import pandas as pd\n",
    "from pathlib import Path\n",
    "\n",
    "def extract_and_combine_sheets(directory, sheet_name, output_directory):\n",
    "    extracted_data = []\n",
    "    total_records = 0  # Inicializo un contador para los registros que voy a procesar.\n",
    "    Path(output_directory).mkdir(parents=True, exist_ok=True)  # Me aseguro de que el directorio de salida exista o lo creo.\n",
    "\n",
    "    files = [os.path.join(directory, file) for file in os.listdir(directory) if file.endswith('.xlsx')]  # Creo una lista de todos los archivos Excel en el directorio especificado.\n",
    "\n",
    "    for file in files:\n",
    "        try:\n",
    "            data = pd.read_excel(file, sheet_name=sheet_name, engine='openpyxl')  # Cargar la hoja especificada de cada archivo usando pandas.\n",
    "            for col in data.columns:  # Elimino las fórmulas de las celdas convirtiéndolas a sus valores.\n",
    "                data[col] = data[col].apply(lambda x: x.value if hasattr(x, 'value') else x)\n",
    "            extracted_data.append(data)  # Agrego el dataframe a la lista de dataframes extraídos.\n",
    "            num_records = data.shape[0]  # Cuento los registros extraídos.\n",
    "            total_records += num_records  # Acumulo el conteo de registros.\n",
    "            print(f\"Extraídos {num_records} registros de '{sheet_name}' en '{file}'\")\n",
    "            output_file = os.path.join(output_directory, os.path.basename(file))  # Defino el nombre del archivo de salida.\n",
    "            data.to_excel(output_file, index=False)  # Guardo los datos extraídos en un nuevo archivo Excel.\n",
    "            print(f\"Datos de '{sheet_name}' en '{file}' guardados en '{output_file}'\")\n",
    "        except Exception as e:\n",
    "            print(f\"Error extrayendo de {file}: {str(e)}\")  # Imprimo errores si ocurren durante la extracción.\n",
    "\n",
    "    combined_data = pd.concat(extracted_data, ignore_index=True)  # Combino todos los dataframes en uno solo.\n",
    "    combined_output_file = os.path.join(output_directory, \"archivo_combinado.xlsx\")  # Defino el nombre del archivo final combinado.\n",
    "    combined_data.to_excel(combined_output_file, index=False)  # Guardo el dataframe combinado en un archivo Excel.\n",
    "    print(f\"Total de registros extraídos de todos los archivos: {total_records}\")  # Imprimo el total de registros procesados.\n",
    "    print(f\"Datos combinados y guardados en {combined_output_file}\")\n",
    "\n",
    "\n",
    "directory = \"/content/workinhouse\" # aqui subimos la ruta\n",
    "sheet_name = \"inspecciones app\" # la hoja que queremos transformar\n",
    "output_directory = \"/content/workinhouse/outputs\" # aqui se genra la ruta del nuevo archivo\n",
    "\n",
    "extract_and_combine_sheets(directory, sheet_name, output_directory)  # Llamo a la función con los parámetros adecuados.\n"
   ]
  },
  {
   "cell_type": "code",
   "execution_count": null,
   "metadata": {},
   "outputs": [],
   "source": []
  }
 ],
 "metadata": {
  "kernelspec": {
   "display_name": "Python 3",
   "language": "python",
   "name": "python3"
  },
  "language_info": {
   "codemirror_mode": {
    "name": "ipython",
    "version": 3
   },
   "file_extension": ".py",
   "mimetype": "text/x-python",
   "name": "python",
   "nbconvert_exporter": "python",
   "pygments_lexer": "ipython3",
   "version": "3.10.5"
  }
 },
 "nbformat": 4,
 "nbformat_minor": 2
}
